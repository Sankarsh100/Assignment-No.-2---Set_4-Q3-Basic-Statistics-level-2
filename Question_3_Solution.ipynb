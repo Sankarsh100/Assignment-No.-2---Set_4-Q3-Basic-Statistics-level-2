{
 "cells": [
  {
   "cell_type": "code",
   "execution_count": 1,
   "id": "b082d620",
   "metadata": {},
   "outputs": [
    {
     "data": {
      "text/plain": [
       "1.25"
      ]
     },
     "execution_count": 1,
     "metadata": {},
     "output_type": "execute_result"
    }
   ],
   "source": [
    " # for $55 \n",
    "import numpy as np \n",
    "z=(55-50)/(40/np.sqrt(100)) \n",
    "z "
   ]
  },
  {
   "cell_type": "code",
   "execution_count": 2,
   "id": "c92f917b",
   "metadata": {},
   "outputs": [
    {
     "data": {
      "text/plain": [
       "-1.25"
      ]
     },
     "execution_count": 2,
     "metadata": {},
     "output_type": "execute_result"
    }
   ],
   "source": [
    "# for $45 \n",
    "z=(45-50)/(40/np.sqrt(100)) \n",
    "z "
   ]
  },
  {
   "cell_type": "code",
   "execution_count": 3,
   "id": "4523c8f8",
   "metadata": {},
   "outputs": [
    {
     "data": {
      "text/plain": [
       "0.2112995473337107"
      ]
     },
     "execution_count": 3,
     "metadata": {},
     "output_type": "execute_result"
    }
   ],
   "source": [
    "from scipy import stats \n",
    "1-(stats.norm.cdf(1.25)-stats.norm.cdf(-1.25))"
   ]
  }
 ],
 "metadata": {
  "kernelspec": {
   "display_name": "Python 3 (ipykernel)",
   "language": "python",
   "name": "python3"
  },
  "language_info": {
   "codemirror_mode": {
    "name": "ipython",
    "version": 3
   },
   "file_extension": ".py",
   "mimetype": "text/x-python",
   "name": "python",
   "nbconvert_exporter": "python",
   "pygments_lexer": "ipython3",
   "version": "3.9.7"
  }
 },
 "nbformat": 4,
 "nbformat_minor": 5
}
